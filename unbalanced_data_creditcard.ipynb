{
  "nbformat": 4,
  "nbformat_minor": 0,
  "metadata": {
    "colab": {
      "name": "unbalanced-data-creditcard.ipynb",
      "provenance": []
    },
    "kernelspec": {
      "name": "python3",
      "display_name": "Python 3"
    }
  },
  "cells": [
    {
      "cell_type": "code",
      "metadata": {
        "id": "hxYkWGZj0Grc"
      },
      "source": [
        "import pandas as pd"
      ],
      "execution_count": 2,
      "outputs": []
    },
    {
      "cell_type": "code",
      "metadata": {
        "colab": {
          "base_uri": "https://localhost:8080/"
        },
        "id": "dR0T_62136GV",
        "outputId": "6a489246-35a9-4c27-be83-1e27b7041b64"
      },
      "source": [
        "df = pd.read_csv('drive/MyDrive/creditcard.csv')\n",
        "df.shape"
      ],
      "execution_count": 3,
      "outputs": [
        {
          "output_type": "execute_result",
          "data": {
            "text/plain": [
              "(284807, 31)"
            ]
          },
          "metadata": {
            "tags": []
          },
          "execution_count": 3
        }
      ]
    },
    {
      "cell_type": "markdown",
      "metadata": {
        "id": "sAmivZmamJxZ"
      },
      "source": [
        "shuffle"
      ]
    },
    {
      "cell_type": "code",
      "metadata": {
        "colab": {
          "base_uri": "https://localhost:8080/"
        },
        "id": "0rPA8IjCiORs",
        "outputId": "17816412-db70-4a8b-8912-5d43e1ecf4b1"
      },
      "source": [
        "df = df.sample(frac=1)\n",
        "df.shape"
      ],
      "execution_count": 4,
      "outputs": [
        {
          "output_type": "execute_result",
          "data": {
            "text/plain": [
              "(284807, 31)"
            ]
          },
          "metadata": {
            "tags": []
          },
          "execution_count": 4
        }
      ]
    },
    {
      "cell_type": "code",
      "metadata": {
        "colab": {
          "base_uri": "https://localhost:8080/"
        },
        "id": "QKC7u2BgiZrG",
        "outputId": "911ecb8b-ed8b-43b9-b2b9-87af76aad4f5"
      },
      "source": [
        "df_1 = df.sample(frac=0.1)\n",
        "df_1.shape"
      ],
      "execution_count": 4,
      "outputs": [
        {
          "output_type": "execute_result",
          "data": {
            "text/plain": [
              "(28481, 31)"
            ]
          },
          "metadata": {
            "tags": []
          },
          "execution_count": 4
        }
      ]
    },
    {
      "cell_type": "markdown",
      "metadata": {
        "id": "em8gv4kCkCG9"
      },
      "source": [
        "scale time and amount"
      ]
    },
    {
      "cell_type": "code",
      "metadata": {
        "id": "BnKUhRpWkEkx"
      },
      "source": [
        "from sklearn.preprocessing import RobustScaler\n",
        "rs = RobustScaler()"
      ],
      "execution_count": 5,
      "outputs": []
    },
    {
      "cell_type": "code",
      "metadata": {
        "id": "XNksGOyzkPpD"
      },
      "source": [
        "df['Amount'] = rs.fit_transform(df['Amount'].values.reshape(-1,1))\n",
        "df['Time'] = rs.fit_transform(df['Time'].values.reshape(-1,1))"
      ],
      "execution_count": 6,
      "outputs": []
    },
    {
      "cell_type": "markdown",
      "metadata": {
        "id": "-rf-EN_amTTd"
      },
      "source": [
        "down-sampling"
      ]
    },
    {
      "cell_type": "code",
      "metadata": {
        "colab": {
          "base_uri": "https://localhost:8080/"
        },
        "id": "TQ7PnzfEiijj",
        "outputId": "b8e76fd8-7f18-4c87-8458-d021c3ec1e2e"
      },
      "source": [
        "fraud = df.loc[df['Class']==1]\n",
        "non_fraud = df.loc[df['Class']==0]\n",
        "non_fraud = non_fraud[:fraud.shape[0]]\n",
        "non_fraud.shape"
      ],
      "execution_count": 65,
      "outputs": [
        {
          "output_type": "execute_result",
          "data": {
            "text/plain": [
              "(492, 31)"
            ]
          },
          "metadata": {
            "tags": []
          },
          "execution_count": 65
        }
      ]
    },
    {
      "cell_type": "code",
      "metadata": {
        "id": "GnmCetvpkt45"
      },
      "source": [
        "down_df = pd.concat([fraud, non_fraud])\n",
        "down_df = down_df.sample(frac=1)"
      ],
      "execution_count": 66,
      "outputs": []
    },
    {
      "cell_type": "code",
      "metadata": {
        "id": "Jyj2Ke7wosKh"
      },
      "source": [
        "corr = df.corr()\n"
      ],
      "execution_count": 17,
      "outputs": []
    },
    {
      "cell_type": "markdown",
      "metadata": {
        "id": "S1Kv9JVqrnyo"
      },
      "source": [
        "remove extreme outlier"
      ]
    },
    {
      "cell_type": "code",
      "metadata": {
        "id": "Q8vOZpU9rqSB"
      },
      "source": [
        "import numpy as np\n",
        "def cut_off(down_df, cname):\n",
        "  c_fraud = down_df[cname].loc[down_df['Class']==1].values\n",
        "  q25,q75 = np.percentile(c_fraud, 25), np.percentile(c_fraud, 75)\n",
        "  threshold = (q75-q25)*1.5\n",
        "  c_lower_bound = q25 - threshold\n",
        "  c_upper_bound = q75 + threshold\n",
        "  return c_lower_bound, c_upper_bound\n"
      ],
      "execution_count": 67,
      "outputs": []
    },
    {
      "cell_type": "code",
      "metadata": {
        "colab": {
          "base_uri": "https://localhost:8080/"
        },
        "id": "s_OLCYQ0gm_x",
        "outputId": "5efbb1cb-2abf-460b-939b-43c727a45da3"
      },
      "source": [
        "v14_lower_bound, v14_upper_bound = cut_off(down_df, 'V14')\n",
        "v12_lower_bound, v12_upper_bound = cut_off(down_df, 'V12')\n",
        "v10_lower_bound, v10_upper_bound = cut_off(down_df, 'V10')\n",
        "print('V10 lower=',v10_lower_bound, 'upper=', v10_upper_bound)\n",
        "print('V12 lower=',v12_lower_bound, 'upper=', v12_upper_bound)\n",
        "print('V14 lower=',v14_lower_bound, 'upper=', v14_upper_bound)"
      ],
      "execution_count": 68,
      "outputs": [
        {
          "output_type": "stream",
          "text": [
            "V10 lower= -15.47046969983434 upper= 5.099587558797303\n",
            "V12 lower= -17.25930926645337 upper= 5.597044719256134\n",
            "V14 lower= -17.807576138200663 upper= 3.8320323237414122\n"
          ],
          "name": "stdout"
        }
      ]
    },
    {
      "cell_type": "code",
      "metadata": {
        "id": "L4-Wmm3Ptm29"
      },
      "source": [
        "down_df = down_df.drop(down_df[(down_df['V14']>v14_upper_bound) | (down_df['V14']<v14_lower_bound)].index)\n",
        "down_df = down_df.drop(down_df[(down_df['V10']>v10_upper_bound) | (down_df['V10']<v10_lower_bound)].index)\n",
        "down_df = down_df.drop(down_df[(down_df['V12']>v12_upper_bound) | (down_df['V12']<v12_lower_bound)].index)"
      ],
      "execution_count": 69,
      "outputs": []
    },
    {
      "cell_type": "code",
      "metadata": {
        "colab": {
          "base_uri": "https://localhost:8080/"
        },
        "id": "EWui5ZGHtySz",
        "outputId": "7c8528a8-a812-45ff-e7f2-76c6e0bef704"
      },
      "source": [
        "down_df.shape"
      ],
      "execution_count": 70,
      "outputs": [
        {
          "output_type": "execute_result",
          "data": {
            "text/plain": [
              "(953, 31)"
            ]
          },
          "metadata": {
            "tags": []
          },
          "execution_count": 70
        }
      ]
    },
    {
      "cell_type": "markdown",
      "metadata": {
        "id": "UtmixSO1bwjF"
      },
      "source": [
        "TSNE (it is very important that columns are scaled)"
      ]
    },
    {
      "cell_type": "code",
      "metadata": {
        "id": "7duVzGmocBiM"
      },
      "source": [
        "from sklearn.manifold import TSNE"
      ],
      "execution_count": 9,
      "outputs": []
    },
    {
      "cell_type": "code",
      "metadata": {
        "id": "XKRK0KCicKAv"
      },
      "source": [
        "X_down = down_df.drop('Class', axis=1)\n",
        "y_down = down_df['Class']"
      ],
      "execution_count": 71,
      "outputs": []
    },
    {
      "cell_type": "code",
      "metadata": {
        "colab": {
          "base_uri": "https://localhost:8080/",
          "height": 427
        },
        "id": "qpUgJP6LjpxB",
        "outputId": "7a221d3b-3122-4bcb-9ae8-2fd12b089a52"
      },
      "source": [
        "X_down"
      ],
      "execution_count": 72,
      "outputs": [
        {
          "output_type": "execute_result",
          "data": {
            "text/html": [
              "<div>\n",
              "<style scoped>\n",
              "    .dataframe tbody tr th:only-of-type {\n",
              "        vertical-align: middle;\n",
              "    }\n",
              "\n",
              "    .dataframe tbody tr th {\n",
              "        vertical-align: top;\n",
              "    }\n",
              "\n",
              "    .dataframe thead th {\n",
              "        text-align: right;\n",
              "    }\n",
              "</style>\n",
              "<table border=\"1\" class=\"dataframe\">\n",
              "  <thead>\n",
              "    <tr style=\"text-align: right;\">\n",
              "      <th></th>\n",
              "      <th>Time</th>\n",
              "      <th>V1</th>\n",
              "      <th>V2</th>\n",
              "      <th>V3</th>\n",
              "      <th>V4</th>\n",
              "      <th>V5</th>\n",
              "      <th>V6</th>\n",
              "      <th>V7</th>\n",
              "      <th>V8</th>\n",
              "      <th>V9</th>\n",
              "      <th>V10</th>\n",
              "      <th>V11</th>\n",
              "      <th>V12</th>\n",
              "      <th>V13</th>\n",
              "      <th>V14</th>\n",
              "      <th>V15</th>\n",
              "      <th>V16</th>\n",
              "      <th>V17</th>\n",
              "      <th>V18</th>\n",
              "      <th>V19</th>\n",
              "      <th>V20</th>\n",
              "      <th>V21</th>\n",
              "      <th>V22</th>\n",
              "      <th>V23</th>\n",
              "      <th>V24</th>\n",
              "      <th>V25</th>\n",
              "      <th>V26</th>\n",
              "      <th>V27</th>\n",
              "      <th>V28</th>\n",
              "      <th>Amount</th>\n",
              "    </tr>\n",
              "  </thead>\n",
              "  <tbody>\n",
              "    <tr>\n",
              "      <th>244333</th>\n",
              "      <td>0.794358</td>\n",
              "      <td>-5.222968</td>\n",
              "      <td>4.641827</td>\n",
              "      <td>-8.858204</td>\n",
              "      <td>7.723502</td>\n",
              "      <td>-1.507035</td>\n",
              "      <td>-2.159484</td>\n",
              "      <td>-4.205164</td>\n",
              "      <td>0.979334</td>\n",
              "      <td>-1.505637</td>\n",
              "      <td>-2.239066</td>\n",
              "      <td>4.231393</td>\n",
              "      <td>-8.493488</td>\n",
              "      <td>-1.092811</td>\n",
              "      <td>-13.237559</td>\n",
              "      <td>1.184086</td>\n",
              "      <td>-4.186415</td>\n",
              "      <td>-5.492536</td>\n",
              "      <td>-1.216108</td>\n",
              "      <td>1.046105</td>\n",
              "      <td>-0.176673</td>\n",
              "      <td>0.561892</td>\n",
              "      <td>0.624207</td>\n",
              "      <td>0.536429</td>\n",
              "      <td>-0.628334</td>\n",
              "      <td>-0.222651</td>\n",
              "      <td>0.382208</td>\n",
              "      <td>-2.693036</td>\n",
              "      <td>0.407935</td>\n",
              "      <td>-0.293440</td>\n",
              "    </tr>\n",
              "    <tr>\n",
              "      <th>227843</th>\n",
              "      <td>0.711392</td>\n",
              "      <td>-0.061507</td>\n",
              "      <td>1.024900</td>\n",
              "      <td>-0.170060</td>\n",
              "      <td>-0.263220</td>\n",
              "      <td>0.982164</td>\n",
              "      <td>-1.162749</td>\n",
              "      <td>1.468942</td>\n",
              "      <td>-0.648407</td>\n",
              "      <td>-0.157586</td>\n",
              "      <td>-0.764370</td>\n",
              "      <td>-0.442168</td>\n",
              "      <td>0.024224</td>\n",
              "      <td>0.865039</td>\n",
              "      <td>-1.203879</td>\n",
              "      <td>0.627917</td>\n",
              "      <td>-0.103494</td>\n",
              "      <td>0.238910</td>\n",
              "      <td>0.634188</td>\n",
              "      <td>-0.030689</td>\n",
              "      <td>0.035225</td>\n",
              "      <td>0.299618</td>\n",
              "      <td>1.177722</td>\n",
              "      <td>-0.296209</td>\n",
              "      <td>-0.140335</td>\n",
              "      <td>-0.465171</td>\n",
              "      <td>-0.197933</td>\n",
              "      <td>-0.048916</td>\n",
              "      <td>0.023871</td>\n",
              "      <td>0.243136</td>\n",
              "    </tr>\n",
              "    <tr>\n",
              "      <th>132984</th>\n",
              "      <td>-0.052773</td>\n",
              "      <td>-2.198666</td>\n",
              "      <td>3.995769</td>\n",
              "      <td>-3.284767</td>\n",
              "      <td>1.130628</td>\n",
              "      <td>-0.179446</td>\n",
              "      <td>-2.336796</td>\n",
              "      <td>0.413867</td>\n",
              "      <td>0.322868</td>\n",
              "      <td>1.904305</td>\n",
              "      <td>2.306664</td>\n",
              "      <td>0.941160</td>\n",
              "      <td>-0.860541</td>\n",
              "      <td>-1.302321</td>\n",
              "      <td>-3.809632</td>\n",
              "      <td>1.313281</td>\n",
              "      <td>0.656767</td>\n",
              "      <td>3.072210</td>\n",
              "      <td>1.393003</td>\n",
              "      <td>-0.900458</td>\n",
              "      <td>1.481938</td>\n",
              "      <td>-0.441238</td>\n",
              "      <td>-0.470180</td>\n",
              "      <td>0.351230</td>\n",
              "      <td>0.282254</td>\n",
              "      <td>0.102362</td>\n",
              "      <td>-0.361464</td>\n",
              "      <td>1.377055</td>\n",
              "      <td>0.680469</td>\n",
              "      <td>-0.294977</td>\n",
              "    </tr>\n",
              "    <tr>\n",
              "      <th>129826</th>\n",
              "      <td>-0.064275</td>\n",
              "      <td>1.227071</td>\n",
              "      <td>-0.404910</td>\n",
              "      <td>0.794848</td>\n",
              "      <td>-0.918535</td>\n",
              "      <td>-0.988407</td>\n",
              "      <td>-0.311474</td>\n",
              "      <td>-0.679640</td>\n",
              "      <td>0.132442</td>\n",
              "      <td>1.577709</td>\n",
              "      <td>-0.911754</td>\n",
              "      <td>0.974178</td>\n",
              "      <td>1.344325</td>\n",
              "      <td>-0.025464</td>\n",
              "      <td>0.019626</td>\n",
              "      <td>0.590991</td>\n",
              "      <td>-0.152424</td>\n",
              "      <td>-0.517311</td>\n",
              "      <td>0.784863</td>\n",
              "      <td>0.968873</td>\n",
              "      <td>-0.101296</td>\n",
              "      <td>0.018280</td>\n",
              "      <td>0.269859</td>\n",
              "      <td>-0.089180</td>\n",
              "      <td>0.028395</td>\n",
              "      <td>0.515314</td>\n",
              "      <td>-0.683836</td>\n",
              "      <td>0.089680</td>\n",
              "      <td>0.021882</td>\n",
              "      <td>-0.293440</td>\n",
              "    </tr>\n",
              "    <tr>\n",
              "      <th>146586</th>\n",
              "      <td>0.036138</td>\n",
              "      <td>-2.861241</td>\n",
              "      <td>2.569749</td>\n",
              "      <td>-1.138555</td>\n",
              "      <td>-3.046908</td>\n",
              "      <td>0.132552</td>\n",
              "      <td>-0.343404</td>\n",
              "      <td>-0.136336</td>\n",
              "      <td>-0.633860</td>\n",
              "      <td>0.598709</td>\n",
              "      <td>0.168040</td>\n",
              "      <td>0.140304</td>\n",
              "      <td>1.020231</td>\n",
              "      <td>-0.131791</td>\n",
              "      <td>0.672067</td>\n",
              "      <td>-1.145515</td>\n",
              "      <td>0.786322</td>\n",
              "      <td>-0.816831</td>\n",
              "      <td>-0.122001</td>\n",
              "      <td>-0.513582</td>\n",
              "      <td>0.056349</td>\n",
              "      <td>1.195137</td>\n",
              "      <td>-1.443187</td>\n",
              "      <td>0.240995</td>\n",
              "      <td>0.147389</td>\n",
              "      <td>0.312325</td>\n",
              "      <td>0.390810</td>\n",
              "      <td>0.560071</td>\n",
              "      <td>0.350409</td>\n",
              "      <td>-0.237546</td>\n",
              "    </tr>\n",
              "    <tr>\n",
              "      <th>...</th>\n",
              "      <td>...</td>\n",
              "      <td>...</td>\n",
              "      <td>...</td>\n",
              "      <td>...</td>\n",
              "      <td>...</td>\n",
              "      <td>...</td>\n",
              "      <td>...</td>\n",
              "      <td>...</td>\n",
              "      <td>...</td>\n",
              "      <td>...</td>\n",
              "      <td>...</td>\n",
              "      <td>...</td>\n",
              "      <td>...</td>\n",
              "      <td>...</td>\n",
              "      <td>...</td>\n",
              "      <td>...</td>\n",
              "      <td>...</td>\n",
              "      <td>...</td>\n",
              "      <td>...</td>\n",
              "      <td>...</td>\n",
              "      <td>...</td>\n",
              "      <td>...</td>\n",
              "      <td>...</td>\n",
              "      <td>...</td>\n",
              "      <td>...</td>\n",
              "      <td>...</td>\n",
              "      <td>...</td>\n",
              "      <td>...</td>\n",
              "      <td>...</td>\n",
              "      <td>...</td>\n",
              "    </tr>\n",
              "    <tr>\n",
              "      <th>263324</th>\n",
              "      <td>0.895253</td>\n",
              "      <td>-0.848290</td>\n",
              "      <td>2.719882</td>\n",
              "      <td>-6.199070</td>\n",
              "      <td>3.044437</td>\n",
              "      <td>-3.301910</td>\n",
              "      <td>-1.992117</td>\n",
              "      <td>-3.734902</td>\n",
              "      <td>1.520079</td>\n",
              "      <td>-2.548788</td>\n",
              "      <td>-4.533515</td>\n",
              "      <td>2.288022</td>\n",
              "      <td>-5.267205</td>\n",
              "      <td>0.394800</td>\n",
              "      <td>-4.287996</td>\n",
              "      <td>1.315279</td>\n",
              "      <td>-6.469187</td>\n",
              "      <td>-8.713920</td>\n",
              "      <td>-3.705070</td>\n",
              "      <td>3.531003</td>\n",
              "      <td>0.319576</td>\n",
              "      <td>1.125229</td>\n",
              "      <td>0.805258</td>\n",
              "      <td>0.199119</td>\n",
              "      <td>0.035206</td>\n",
              "      <td>0.012159</td>\n",
              "      <td>0.601658</td>\n",
              "      <td>0.137468</td>\n",
              "      <td>-0.171397</td>\n",
              "      <td>1.469154</td>\n",
              "    </tr>\n",
              "    <tr>\n",
              "      <th>230209</th>\n",
              "      <td>0.723035</td>\n",
              "      <td>-0.268005</td>\n",
              "      <td>-0.084951</td>\n",
              "      <td>0.183901</td>\n",
              "      <td>-3.183776</td>\n",
              "      <td>0.211662</td>\n",
              "      <td>-1.051145</td>\n",
              "      <td>0.585732</td>\n",
              "      <td>-0.353279</td>\n",
              "      <td>-2.606481</td>\n",
              "      <td>0.823932</td>\n",
              "      <td>-1.461984</td>\n",
              "      <td>-0.936403</td>\n",
              "      <td>1.340318</td>\n",
              "      <td>-0.378247</td>\n",
              "      <td>-0.692592</td>\n",
              "      <td>-0.329577</td>\n",
              "      <td>-0.125877</td>\n",
              "      <td>-0.224623</td>\n",
              "      <td>-0.511256</td>\n",
              "      <td>-0.139685</td>\n",
              "      <td>-0.306336</td>\n",
              "      <td>-0.465725</td>\n",
              "      <td>-0.153540</td>\n",
              "      <td>-0.684659</td>\n",
              "      <td>0.097095</td>\n",
              "      <td>-0.363715</td>\n",
              "      <td>0.331783</td>\n",
              "      <td>0.189718</td>\n",
              "      <td>0.083840</td>\n",
              "    </tr>\n",
              "    <tr>\n",
              "      <th>79965</th>\n",
              "      <td>-0.310412</td>\n",
              "      <td>-1.357250</td>\n",
              "      <td>0.032231</td>\n",
              "      <td>1.720698</td>\n",
              "      <td>0.501374</td>\n",
              "      <td>0.994244</td>\n",
              "      <td>-1.075166</td>\n",
              "      <td>0.672932</td>\n",
              "      <td>-0.067857</td>\n",
              "      <td>-0.386332</td>\n",
              "      <td>-0.844592</td>\n",
              "      <td>-0.877658</td>\n",
              "      <td>0.651922</td>\n",
              "      <td>0.648989</td>\n",
              "      <td>-0.242731</td>\n",
              "      <td>-1.113996</td>\n",
              "      <td>-0.279355</td>\n",
              "      <td>-0.341762</td>\n",
              "      <td>-0.507080</td>\n",
              "      <td>-0.672850</td>\n",
              "      <td>0.217491</td>\n",
              "      <td>0.060612</td>\n",
              "      <td>-0.025464</td>\n",
              "      <td>-0.033170</td>\n",
              "      <td>0.388344</td>\n",
              "      <td>0.554065</td>\n",
              "      <td>-0.504343</td>\n",
              "      <td>0.030794</td>\n",
              "      <td>0.116526</td>\n",
              "      <td>0.594564</td>\n",
              "    </tr>\n",
              "    <tr>\n",
              "      <th>191074</th>\n",
              "      <td>0.521658</td>\n",
              "      <td>-1.836940</td>\n",
              "      <td>-1.646764</td>\n",
              "      <td>-3.381168</td>\n",
              "      <td>0.473354</td>\n",
              "      <td>0.074243</td>\n",
              "      <td>-0.446751</td>\n",
              "      <td>3.791907</td>\n",
              "      <td>-1.351045</td>\n",
              "      <td>0.095186</td>\n",
              "      <td>-0.084500</td>\n",
              "      <td>-1.542305</td>\n",
              "      <td>-0.540535</td>\n",
              "      <td>-0.272079</td>\n",
              "      <td>0.712541</td>\n",
              "      <td>0.234980</td>\n",
              "      <td>-0.907666</td>\n",
              "      <td>-0.391051</td>\n",
              "      <td>-0.034719</td>\n",
              "      <td>1.084286</td>\n",
              "      <td>-1.586144</td>\n",
              "      <td>0.010663</td>\n",
              "      <td>1.786681</td>\n",
              "      <td>-0.151178</td>\n",
              "      <td>-0.582098</td>\n",
              "      <td>-0.956062</td>\n",
              "      <td>-0.334369</td>\n",
              "      <td>0.715600</td>\n",
              "      <td>0.370450</td>\n",
              "      <td>9.764550</td>\n",
              "    </tr>\n",
              "    <tr>\n",
              "      <th>276304</th>\n",
              "      <td>0.967070</td>\n",
              "      <td>-0.096845</td>\n",
              "      <td>0.162770</td>\n",
              "      <td>-0.205210</td>\n",
              "      <td>-0.362365</td>\n",
              "      <td>1.130818</td>\n",
              "      <td>-0.744506</td>\n",
              "      <td>-0.079492</td>\n",
              "      <td>-0.010817</td>\n",
              "      <td>0.629480</td>\n",
              "      <td>-0.748518</td>\n",
              "      <td>-1.011246</td>\n",
              "      <td>0.091375</td>\n",
              "      <td>0.580893</td>\n",
              "      <td>-1.490170</td>\n",
              "      <td>0.000399</td>\n",
              "      <td>0.864467</td>\n",
              "      <td>0.015681</td>\n",
              "      <td>0.356812</td>\n",
              "      <td>-0.370324</td>\n",
              "      <td>-0.244968</td>\n",
              "      <td>-0.065860</td>\n",
              "      <td>-0.041663</td>\n",
              "      <td>0.390156</td>\n",
              "      <td>0.388262</td>\n",
              "      <td>-2.478004</td>\n",
              "      <td>-0.218300</td>\n",
              "      <td>0.324014</td>\n",
              "      <td>0.366531</td>\n",
              "      <td>-0.276392</td>\n",
              "    </tr>\n",
              "  </tbody>\n",
              "</table>\n",
              "<p>953 rows × 30 columns</p>\n",
              "</div>"
            ],
            "text/plain": [
              "            Time        V1        V2  ...       V27       V28    Amount\n",
              "244333  0.794358 -5.222968  4.641827  ... -2.693036  0.407935 -0.293440\n",
              "227843  0.711392 -0.061507  1.024900  ... -0.048916  0.023871  0.243136\n",
              "132984 -0.052773 -2.198666  3.995769  ...  1.377055  0.680469 -0.294977\n",
              "129826 -0.064275  1.227071 -0.404910  ...  0.089680  0.021882 -0.293440\n",
              "146586  0.036138 -2.861241  2.569749  ...  0.560071  0.350409 -0.237546\n",
              "...          ...       ...       ...  ...       ...       ...       ...\n",
              "263324  0.895253 -0.848290  2.719882  ...  0.137468 -0.171397  1.469154\n",
              "230209  0.723035 -0.268005 -0.084951  ...  0.331783  0.189718  0.083840\n",
              "79965  -0.310412 -1.357250  0.032231  ...  0.030794  0.116526  0.594564\n",
              "191074  0.521658 -1.836940 -1.646764  ...  0.715600  0.370450  9.764550\n",
              "276304  0.967070 -0.096845  0.162770  ...  0.324014  0.366531 -0.276392\n",
              "\n",
              "[953 rows x 30 columns]"
            ]
          },
          "metadata": {
            "tags": []
          },
          "execution_count": 72
        }
      ]
    },
    {
      "cell_type": "code",
      "metadata": {
        "id": "1dwW4eO4ch_P"
      },
      "source": [
        "X_down_tsne = TSNE().fit_transform(X_down.values)"
      ],
      "execution_count": 73,
      "outputs": []
    },
    {
      "cell_type": "code",
      "metadata": {
        "id": "RYlWcPD4cyer"
      },
      "source": [
        "import matplotlib.pyplot as plt\n"
      ],
      "execution_count": 12,
      "outputs": []
    },
    {
      "cell_type": "code",
      "metadata": {
        "colab": {
          "base_uri": "https://localhost:8080/"
        },
        "id": "nv97hanudah7",
        "outputId": "2f6019e4-cbb4-49e7-e359-a74163fcf14b"
      },
      "source": [
        "X_down_tsne"
      ],
      "execution_count": 57,
      "outputs": [
        {
          "output_type": "execute_result",
          "data": {
            "text/plain": [
              "array([[ 45.72967  ,   8.2899065],\n",
              "       [-20.517584 , -39.298073 ],\n",
              "       [-37.53723  ,  11.914542 ],\n",
              "       ...,\n",
              "       [-19.136675 ,  37.778915 ],\n",
              "       [  5.223329 ,  24.062933 ],\n",
              "       [ 18.848806 , -18.782656 ]], dtype=float32)"
            ]
          },
          "metadata": {
            "tags": []
          },
          "execution_count": 57
        }
      ]
    },
    {
      "cell_type": "code",
      "metadata": {
        "colab": {
          "base_uri": "https://localhost:8080/",
          "height": 394
        },
        "id": "7qT_ZIdoc395",
        "outputId": "61525632-f820-40a4-9d4c-e25bdadde588"
      },
      "source": [
        "f,ax = plt.subplots(1,1,figsize=(24,6))\n",
        "ax.scatter(X_down_tsne[:,0], X_down_tsne[:,1], c=(y_down==0), cmap='coolwarm')\n",
        "\n",
        "plt.show()"
      ],
      "execution_count": 74,
      "outputs": [
        {
          "output_type": "display_data",
          "data": {
            "image/png": "[encoded data removed]",
            "text/plain": [
              "<Figure size 1728x432 with 1 Axes>"
            ]
          },
          "metadata": {
            "tags": [],
            "needs_background": "light"
          }
        }
      ]
    },
    {
      "cell_type": "markdown",
      "metadata": {
        "id": "_vN9zgRdfnKp"
      },
      "source": [
        "undersampling with near miss\n",
        "https://machinelearningmastery.com/undersampling-algorithms-for-imbalanced-classification/"
      ]
    },
    {
      "cell_type": "markdown",
      "metadata": {
        "id": "md3C-7SXgGuV"
      },
      "source": [
        "Typically, undersampling methods are used in conjunction with an oversampling technique for the minority class, and this combination often results in better performance.\n",
        "\n",
        "The simplest undersampling technique involves randomly selecting examples from the majority class and deleting them from the training dataset. Like we did.\n",
        "\n",
        "NearMiss-1: Majority class examples with minimum average distance to three closest minority class examples.\n",
        "\n",
        "NearMiss-2: Majority class examples with minimum average distance to three furthest minority class examples.\n",
        "\n",
        "NearMiss-3: Majority class examples with minimum distance to each minority class example."
      ]
    },
    {
      "cell_type": "code",
      "metadata": {
        "id": "mdDGO5-M-6l7"
      },
      "source": [
        "from imblearn.under_sampling import NearMiss"
      ],
      "execution_count": 1,
      "outputs": []
    },
    {
      "cell_type": "code",
      "metadata": {
        "id": "VPRNYDpk_ZnP"
      },
      "source": [
        "undersample_X = df.drop('Class', axis=1)\n",
        "undersample_y = df['Class']"
      ],
      "execution_count": 7,
      "outputs": []
    },
    {
      "cell_type": "code",
      "metadata": {
        "colab": {
          "base_uri": "https://localhost:8080/"
        },
        "id": "f_EG4MGIABRs",
        "outputId": "174f6b89-9a26-4ccd-9741-959d711e054c"
      },
      "source": [
        "X_nearmiss, y_nearmiss = NearMiss().fit_sample(undersample_X.values, undersample_y.values)"
      ],
      "execution_count": 8,
      "outputs": [
        {
          "output_type": "stream",
          "text": [
            "/usr/local/lib/python3.6/dist-packages/sklearn/utils/deprecation.py:87: FutureWarning: Function safe_indexing is deprecated; safe_indexing is deprecated in version 0.22 and will be removed in version 0.24.\n",
            "  warnings.warn(msg, category=FutureWarning)\n",
            "/usr/local/lib/python3.6/dist-packages/sklearn/utils/deprecation.py:87: FutureWarning: Function safe_indexing is deprecated; safe_indexing is deprecated in version 0.22 and will be removed in version 0.24.\n",
            "  warnings.warn(msg, category=FutureWarning)\n",
            "/usr/local/lib/python3.6/dist-packages/sklearn/utils/deprecation.py:87: FutureWarning: Function safe_indexing is deprecated; safe_indexing is deprecated in version 0.22 and will be removed in version 0.24.\n",
            "  warnings.warn(msg, category=FutureWarning)\n"
          ],
          "name": "stderr"
        }
      ]
    },
    {
      "cell_type": "code",
      "metadata": {
        "colab": {
          "base_uri": "https://localhost:8080/"
        },
        "id": "oK-zQHB_AT4e",
        "outputId": "1c529ae9-aff4-4734-b50b-f579d9212b44"
      },
      "source": [
        "from collections import Counter\n",
        "Counter(y_nearmiss)"
      ],
      "execution_count": 10,
      "outputs": [
        {
          "output_type": "execute_result",
          "data": {
            "text/plain": [
              "Counter({0: 492, 1: 492})"
            ]
          },
          "metadata": {
            "tags": []
          },
          "execution_count": 10
        }
      ]
    },
    {
      "cell_type": "code",
      "metadata": {
        "id": "VTQ1PvjGBuMM"
      },
      "source": [
        "from sklearn.linear_model import LogisticRegression\n",
        "log_reg = LogisticRegression(max_iter=1000)"
      ],
      "execution_count": 16,
      "outputs": []
    },
    {
      "cell_type": "code",
      "metadata": {
        "id": "ROjSdFqxCFpx"
      },
      "source": [
        "from sklearn.metrics import roc_auc_score\n",
        "from sklearn.metrics import roc_curve\n",
        "from sklearn.model_selection import cross_val_predict"
      ],
      "execution_count": 20,
      "outputs": []
    },
    {
      "cell_type": "code",
      "metadata": {
        "id": "A3MDHRUVCTfb"
      },
      "source": [
        "log_reg_pred = cross_val_predict(log_reg, X_nearmiss, y_nearmiss, cv=5, method='decision_function')"
      ],
      "execution_count": 17,
      "outputs": []
    },
    {
      "cell_type": "code",
      "metadata": {
        "colab": {
          "base_uri": "https://localhost:8080/"
        },
        "id": "wJusz6tQEVmx",
        "outputId": "fd1f7ab5-3deb-46e2-d42e-1b2723138b10"
      },
      "source": [
        "roc_auc_score(y_nearmiss, log_reg_pred)"
      ],
      "execution_count": 19,
      "outputs": [
        {
          "output_type": "execute_result",
          "data": {
            "text/plain": [
              "0.969260195650737"
            ]
          },
          "metadata": {
            "tags": []
          },
          "execution_count": 19
        }
      ]
    },
    {
      "cell_type": "code",
      "metadata": {
        "id": "m7BAf-1pHB3L"
      },
      "source": [
        "log_fpr, log_tpr, log_threshold = roc_curve(y_nearmiss, log_reg_pred)"
      ],
      "execution_count": 22,
      "outputs": []
    },
    {
      "cell_type": "markdown",
      "metadata": {
        "id": "Kpv5ZH_wQpzT"
      },
      "source": [
        "SMOTE (over-sampling)\n",
        "\n",
        "It generates samples by choosing the points between the closest neighbors of the minority class"
      ]
    },
    {
      "cell_type": "code",
      "metadata": {
        "id": "B9MlB998TG1e"
      },
      "source": [
        "cross-valid data need to be generated before over-sampling"
      ],
      "execution_count": null,
      "outputs": []
    }
  ]
}